{
 "cells": [
  {
   "cell_type": "markdown",
   "id": "cc9ca44a",
   "metadata": {},
   "source": [
    "# Import/ Loading the Data"
   ]
  },
  {
   "cell_type": "code",
   "execution_count": 1,
   "id": "457998c6",
   "metadata": {},
   "outputs": [],
   "source": [
    "## Standard Imports\n",
    "import numpy as np\n",
    "import pandas as pd\n",
    "import matplotlib.pyplot as plt\n",
    "import seaborn as sns\n",
    "## Importing the OS and JSON Modules\n",
    "import os,json"
   ]
  },
  {
   "cell_type": "code",
   "execution_count": 3,
   "id": "2fbf7175",
   "metadata": {},
   "outputs": [
    {
     "ename": "SyntaxError",
     "evalue": "(unicode error) 'unicodeescape' codec can't decode bytes in position 2-3: truncated \\UXXXXXXXX escape (1659527993.py, line 1)",
     "output_type": "error",
     "traceback": [
      "\u001b[1;36m  Cell \u001b[1;32mIn [3], line 1\u001b[1;36m\u001b[0m\n\u001b[1;33m    powers_csv = 'C:\\Users\\cathe\\Downloads\\superhero_info - superhero_info.csv'\u001b[0m\n\u001b[1;37m                                                                               ^\u001b[0m\n\u001b[1;31mSyntaxError\u001b[0m\u001b[1;31m:\u001b[0m (unicode error) 'unicodeescape' codec can't decode bytes in position 2-3: truncated \\UXXXXXXXX escape\n"
     ]
    }
   ],
   "source": [
    "powers_csv = 'C:\\Users\\cathe\\Downloads\\superhero_info - superhero_info.csv'"
   ]
  },
  {
   "cell_type": "code",
   "execution_count": 2,
   "id": "1de35601",
   "metadata": {},
   "outputs": [
    {
     "ename": "SyntaxError",
     "evalue": "(unicode error) 'unicodeescape' codec can't decode bytes in position 2-3: truncated \\UXXXXXXXX escape (3042082351.py, line 1)",
     "output_type": "error",
     "traceback": [
      "\u001b[1;36m  Cell \u001b[1;32mIn [2], line 1\u001b[1;36m\u001b[0m\n\u001b[1;33m    info_df = pd.read_csv('C:\\Users\\cathe\\Downloads\\superhero_info - superhero_info.csv')\u001b[0m\n\u001b[1;37m                                                                                        ^\u001b[0m\n\u001b[1;31mSyntaxError\u001b[0m\u001b[1;31m:\u001b[0m (unicode error) 'unicodeescape' codec can't decode bytes in position 2-3: truncated \\UXXXXXXXX escape\n"
     ]
    }
   ],
   "source": [
    "info_df = pd.read_csv('C:\\Users\\cathe\\Downloads\\superhero_info - superhero_info.csv')\n",
    "info_df.head()"
   ]
  },
  {
   "cell_type": "code",
   "execution_count": null,
   "id": "606cbe9b",
   "metadata": {},
   "outputs": [],
   "source": [
    "powers_df = pd.read_csv('C:\\Users\\cathe\\Downloads\\superhero_powers - superhero_powers.csv')\n",
    "powers_df.head()"
   ]
  },
  {
   "cell_type": "code",
   "execution_count": null,
   "id": "c4c628e8",
   "metadata": {},
   "outputs": [],
   "source": [
    "df.info()"
   ]
  },
  {
   "cell_type": "code",
   "execution_count": null,
   "id": "4180948d",
   "metadata": {},
   "outputs": [],
   "source": [
    "# Exploring existing format with a few examples\n",
    "df['display_phone'].head(2)"
   ]
  },
  {
   "cell_type": "code",
   "execution_count": null,
   "id": "158d86c8",
   "metadata": {},
   "outputs": [],
   "source": [
    "## save the 2 new columns into the dataframe\n",
    "df[['area_code','phone_number']] = df['display_phone'].str.split(' ',expand=True)\n",
    "df.head(2)\n"
   ]
  },
  {
   "cell_type": "code",
   "execution_count": null,
   "id": "87dddd06",
   "metadata": {},
   "outputs": [],
   "source": [
    "## drop the original column \n",
    "df = df.drop(columns=['display_phone', 'phone'])\n",
    "df.head(2)"
   ]
  },
  {
   "cell_type": "code",
   "execution_count": null,
   "id": "c1cc6db3",
   "metadata": {},
   "outputs": [],
   "source": []
  }
 ],
 "metadata": {
  "kernelspec": {
   "display_name": "Python 3 (ipykernel)",
   "language": "python",
   "name": "python3"
  },
  "language_info": {
   "codemirror_mode": {
    "name": "ipython",
    "version": 3
   },
   "file_extension": ".py",
   "mimetype": "text/x-python",
   "name": "python",
   "nbconvert_exporter": "python",
   "pygments_lexer": "ipython3",
   "version": "3.9.15"
  },
  "toc": {
   "base_numbering": 1,
   "nav_menu": {},
   "number_sections": true,
   "sideBar": true,
   "skip_h1_title": false,
   "title_cell": "Table of Contents",
   "title_sidebar": "Contents",
   "toc_cell": false,
   "toc_position": {},
   "toc_section_display": true,
   "toc_window_display": false
  }
 },
 "nbformat": 4,
 "nbformat_minor": 5
}
